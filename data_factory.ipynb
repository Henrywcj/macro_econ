{
 "cells": [
  {
   "cell_type": "code",
   "execution_count": 118,
   "metadata": {},
   "outputs": [],
   "source": [
    "import pandas as pd\n",
    "df = pd.read_csv('comb_df.csv', index_col=0, parse_dates=True)\n",
    "ffr = pd.read_csv('ffr.csv', index_col=0, parse_dates=True)"
   ]
  },
  {
   "cell_type": "code",
   "execution_count": 109,
   "metadata": {},
   "outputs": [],
   "source": [
    "#df = df['1984-09-30':]"
   ]
  },
  {
   "cell_type": "code",
   "execution_count": 110,
   "metadata": {},
   "outputs": [],
   "source": [
    "ffr.index = ffr.index - pd.tseries.offsets.DateOffset(days=1) + pd.tseries.offsets.QuarterEnd()"
   ]
  },
  {
   "cell_type": "code",
   "execution_count": 111,
   "metadata": {},
   "outputs": [],
   "source": [
    "df['FFR'] = ffr.FEDFUNDS"
   ]
  },
  {
   "cell_type": "code",
   "execution_count": 112,
   "metadata": {},
   "outputs": [],
   "source": [
    "df.rename(columns={'3M': 'r3M', '1Y': 'r1Y', '2Y': 'r2Y', '3Y': 'r3Y', '5Y': 'r5Y', \n",
    "                   '7Y': 'r7Y', '10Y': 'r10Y', '20Y': 'r20Y', '30Y': 'r30Y', \n",
    "                   'DJIA_Adj Close': 'DJIA_Adj_Close', 'NYSE_Adj Close': 'NYSE_Adj_Close',\n",
    "                   'SP500_Adj Close': 'SP500_Adj_Close'}, inplace=True)"
   ]
  },
  {
   "cell_type": "code",
   "execution_count": 113,
   "metadata": {},
   "outputs": [],
   "source": [
    "df['NYSE_return'] = df.NYSE_Adj_Close.pct_change()\n",
    "df['SP500_return'] = df.SP500_Adj_Close.pct_change()\n",
    "df['DJIA_return'] = df.DJIA_Adj_Close.pct_change()"
   ]
  },
  {
   "cell_type": "code",
   "execution_count": 103,
   "metadata": {},
   "outputs": [
    {
     "data": {
      "text/plain": [
       "Index(['M1SL', 'M2SL', 'TB3MS', 'TB6MS', 'GDPC1', 'USRECQ', 'r3M', 'r1Y',\n",
       "       'r2Y', 'r3Y', 'r5Y', 'r7Y', 'r10Y', 'r20Y', 'r30Y', 'DJIA_Open',\n",
       "       'DJIA_High', 'DJIA_Low', 'DJIA_Close', 'DJIA_Adj_Close', 'DJIA_Volume',\n",
       "       'NYSE_Open', 'NYSE_High', 'NYSE_Low', 'NYSE_Close', 'NYSE_Adj_Close',\n",
       "       'NYSE_Volume', 'SP500_Open', 'SP500_High', 'SP500_Low', 'SP500_Close',\n",
       "       'SP500_Adj_Close', 'SP500_Volume', 'FFR', 'NYSE_return', 'SP500_return',\n",
       "       'DJIA_return'],\n",
       "      dtype='object')"
      ]
     },
     "execution_count": 103,
     "metadata": {},
     "output_type": "execute_result"
    }
   ],
   "source": [
    "df.columns"
   ]
  },
  {
   "cell_type": "code",
   "execution_count": 104,
   "metadata": {},
   "outputs": [],
   "source": [
    "df.drop(['DJIA_Open',\n",
    "       'DJIA_High', 'DJIA_Low', 'DJIA_Close', 'DJIA_Adj_Close', 'DJIA_Volume',\n",
    "       'NYSE_Open', 'NYSE_High', 'NYSE_Low', 'NYSE_Close', 'NYSE_Adj_Close',\n",
    "       'NYSE_Volume', 'SP500_Open', 'SP500_High', 'SP500_Low', 'SP500_Close',\n",
    "       'SP500_Adj_Close', 'SP500_Volume'], axis='columns', inplace=True)"
   ]
  },
  {
   "cell_type": "code",
   "execution_count": 95,
   "metadata": {},
   "outputs": [],
   "source": [
    "df.to_csv('reg_df.csv')"
   ]
  },
  {
   "cell_type": "code",
   "execution_count": null,
   "metadata": {},
   "outputs": [],
   "source": []
  }
 ],
 "metadata": {
  "kernelspec": {
   "display_name": "Python 3",
   "language": "python",
   "name": "python3"
  },
  "language_info": {
   "codemirror_mode": {
    "name": "ipython",
    "version": 3
   },
   "file_extension": ".py",
   "mimetype": "text/x-python",
   "name": "python",
   "nbconvert_exporter": "python",
   "pygments_lexer": "ipython3",
   "version": "3.8.3"
  }
 },
 "nbformat": 4,
 "nbformat_minor": 4
}
